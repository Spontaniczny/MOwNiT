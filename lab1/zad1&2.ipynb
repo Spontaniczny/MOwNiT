{
 "cells": [
  {
   "cell_type": "markdown",
   "source": [
    "# Zad 1"
   ],
   "metadata": {
    "collapsed": false
   }
  },
  {
   "cell_type": "code",
   "execution_count": 331,
   "outputs": [],
   "source": [
    "from random import uniform\n",
    "import matplotlib.pyplot as plt\n",
    "from time import time\n",
    "import numpy as np"
   ],
   "metadata": {
    "collapsed": false
   }
  },
  {
   "cell_type": "code",
   "execution_count": 332,
   "outputs": [],
   "source": [
    "def add(tab):\n",
    "    s = np.float32(0)\n",
    "    for x in tab:\n",
    "        s += x\n",
    "    return s\n",
    "\n",
    "def add_recu(tab):\n",
    "    n = len(tab)\n",
    "    if n == 0:\n",
    "        return 0\n",
    "    elif n == 1:\n",
    "        return tab[0]\n",
    "    elif n == 2:\n",
    "        return tab[0] + tab[1]\n",
    "    n //= 2\n",
    "    return add_recu(tab[:n]) + add_recu(tab[n:])\n",
    "\n",
    "def kahan(tab):\n",
    "    s = np.float32(0)\n",
    "    error = np.float32(0)\n",
    "    for x in tab:\n",
    "        y = x - error\n",
    "        temp = s + y\n",
    "        error = (temp - s) - y\n",
    "        s = temp\n",
    "    return s\n",
    "\n",
    "def count_time(func, *args, **kwargs):\n",
    "    start_time = time()\n",
    "    func(*args, **kwargs)\n",
    "    return time() - start_time"
   ],
   "metadata": {
    "collapsed": false
   }
  },
  {
   "cell_type": "code",
   "execution_count": 333,
   "metadata": {
    "collapsed": true
   },
   "outputs": [
    {
     "name": "stdout",
     "output_type": "stream",
     "text": [
      "v = 0.748993\n",
      "correct_sum:       7489930.0\n",
      "sum_left_to_right: 6398058.5\n"
     ]
    }
   ],
   "source": [
    "N = 10**7\n",
    "v = round(uniform(0.1, 0.9), 6)\n",
    "# v = 0.11111111  # zad 1.7\n",
    "correct_sum = v*N\n",
    "v = np.float32(v)\n",
    "correct_sum = np.float32(correct_sum)\n",
    "tab = [v for _ in range(int(N))]\n",
    "sum_left_to_right = add(tab)\n",
    "print(\"v =\", v)\n",
    "print(\"correct_sum:      \", correct_sum)\n",
    "print(\"sum_left_to_right:\", sum_left_to_right)"
   ]
  },
  {
   "cell_type": "code",
   "execution_count": 334,
   "outputs": [
    {
     "name": "stdout",
     "output_type": "stream",
     "text": [
      "error_abs: 1091871.5\n",
      "error_rel: 0.1457786\n"
     ]
    }
   ],
   "source": [
    "wrong_sum = sum_left_to_right\n",
    "error_abs = abs(correct_sum - wrong_sum)  # bląd bezwzględny\n",
    "error_rel = error_abs / correct_sum       # błąd względny\n",
    "print(\"error_abs:\", error_abs)\n",
    "print(\"error_rel:\", error_rel)"
   ],
   "metadata": {
    "collapsed": false
   }
  },
  {
   "cell_type": "code",
   "execution_count": 335,
   "outputs": [
    {
     "data": {
      "text/plain": "<Figure size 640x480 with 1 Axes>",
      "image/png": "[encoded data removed]"
     },
     "metadata": {},
     "output_type": "display_data"
    }
   ],
   "source": [
    "error_abs_tab = [0]\n",
    "steps = [0]\n",
    "current_val = np.float32(0)\n",
    "for i in range(N):\n",
    "    current_val += tab[i]\n",
    "    if (i + 1) % 25000 == 0:\n",
    "        steps.append((i+1)//25000)\n",
    "        correct_val = (i+1) * v\n",
    "        current_abs_error = abs(correct_val - current_val)\n",
    "        # current_abs_error = correct_val - current_val\n",
    "        # print(current_abs_error)\n",
    "        error_abs_tab.append(current_abs_error / correct_val)\n",
    "\n",
    "plt.plot(steps,error_abs_tab)\n",
    "plt.show()"
   ],
   "metadata": {
    "collapsed": false
   }
  },
  {
   "cell_type": "code",
   "execution_count": 336,
   "outputs": [],
   "source": [
    "sum_recu = add_recu(tab)\n",
    "error_abs_reku = abs(correct_sum - sum_recu)\n",
    "error_rel_reku = error_abs_reku / correct_sum"
   ],
   "metadata": {
    "collapsed": false
   }
  },
  {
   "cell_type": "code",
   "execution_count": 337,
   "outputs": [],
   "source": [
    "sum_kahan = kahan(tab)\n",
    "error_abs_kahan = abs(sum_kahan - correct_sum)\n",
    "error_rel_kahan = error_abs_kahan / correct_sum"
   ],
   "metadata": {
    "collapsed": false
   }
  },
  {
   "cell_type": "code",
   "execution_count": 338,
   "outputs": [
    {
     "name": "stdout",
     "output_type": "stream",
     "text": [
      "v = 0.748993 \n",
      "\n",
      "correct_sum:   7489930.0\n",
      "wrong_sum:     6398058.5\n",
      "sum_recu:      7489930.0\n",
      "                absolut        relative\n",
      "errors_normal: 1091871.5     0.1457786\n",
      "errors_reku:   0.0          0.0\n",
      "errors_kahan:  0.0          0.0\n"
     ]
    }
   ],
   "source": [
    "print(\"v =\", v, \"\\n\")\n",
    "print(\"correct_sum:  \", correct_sum)\n",
    "print(\"wrong_sum:    \", wrong_sum)\n",
    "print(\"sum_recu:     \", sum_recu)\n",
    "print(\"                absolut        relative\")\n",
    "print(\"errors_normal:\", error_abs, \"   \", error_rel)\n",
    "print(\"errors_reku:  \", error_abs_reku, \"        \", error_rel_reku)\n",
    "print(\"errors_kahan: \", error_abs_kahan, \"        \", error_rel_kahan)"
   ],
   "metadata": {
    "collapsed": false
   }
  },
  {
   "cell_type": "code",
   "execution_count": 339,
   "outputs": [
    {
     "name": "stdout",
     "output_type": "stream",
     "text": [
      "v = 0.748993 \n",
      "\n",
      "time of normal add func: 0.6248171329498291 s\n",
      "time of reku add func:   3.643826723098755 s\n",
      "time of kahan add func:  2.619148015975952 s\n"
     ]
    }
   ],
   "source": [
    "t1 = count_time(add, tab)\n",
    "t2 = count_time(add_recu, tab)\n",
    "t3 = count_time(kahan, tab)\n",
    "\n",
    "print(\"v =\", v, \"\\n\")\n",
    "print(\"time of normal add func:\", t1, \"s\")\n",
    "print(\"time of reku add func:  \", t2, \"s\")\n",
    "print(\"time of kahan add func: \", t3, \"s\")\n"
   ],
   "metadata": {
    "collapsed": false
   }
  },
  {
   "cell_type": "markdown",
   "source": [],
   "metadata": {
    "collapsed": false
   }
  }
 ],
 "metadata": {
  "kernelspec": {
   "display_name": "Python 3",
   "language": "python",
   "name": "python3"
  },
  "language_info": {
   "codemirror_mode": {
    "name": "ipython",
    "version": 2
   },
   "file_extension": ".py",
   "mimetype": "text/x-python",
   "name": "python",
   "nbconvert_exporter": "python",
   "pygments_lexer": "ipython2",
   "version": "2.7.6"
  }
 },
 "nbformat": 4,
 "nbformat_minor": 0
}

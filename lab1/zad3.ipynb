{
 "cells": [
  {
   "cell_type": "markdown",
   "source": [
    "# Zad 3"
   ],
   "metadata": {
    "collapsed": false
   }
  },
  {
   "cell_type": "code",
   "execution_count": 71,
   "metadata": {
    "collapsed": true
   },
   "outputs": [],
   "source": [
    "from random import uniform\n",
    "import matplotlib.pyplot as plt\n",
    "from time import time\n",
    "import numpy as np"
   ]
  },
  {
   "cell_type": "code",
   "execution_count": 72,
   "outputs": [],
   "source": [
    "def sum_riemann_front(s, n, floattype = np.float32):\n",
    "    s = floattype(s)\n",
    "    sr= floattype(0)\n",
    "    for k in range(1, n+1):\n",
    "        temp = floattype(k)**s\n",
    "        sr += floattype(1)/temp\n",
    "    return sr\n",
    "\n",
    "def sum_riemann_back(s, n, floattype = np.float32):\n",
    "    s = floattype(s)\n",
    "    sr= floattype(0)\n",
    "    for k in range(n, 0, -1):\n",
    "        temp = floattype(k)**s\n",
    "        sr += floattype(1)/temp\n",
    "    return sr\n",
    "\n",
    "def sum_dirichlet_front(s, n, floattype = np.float32):\n",
    "    s = floattype(s)\n",
    "    sd= floattype(0)\n",
    "    for k in range(1, n+1):\n",
    "        temp = floattype(k)**s\n",
    "        if k % 2 == 0:\n",
    "            sd -= floattype(1)/temp\n",
    "        else:\n",
    "            sd += floattype(1)/temp\n",
    "    return sd\n",
    "\n",
    "def sum_dirichlet_back(s, n, floattype = np.float32):\n",
    "    s = floattype(s)\n",
    "    sd= floattype(0)\n",
    "    for k in range(n, 0, -1):\n",
    "        temp = floattype(k)**s\n",
    "        if k % 2 == 0:\n",
    "            sd -= floattype(1)/temp\n",
    "        else:\n",
    "            sd += floattype(1)/temp\n",
    "    return sd\n"
   ],
   "metadata": {
    "collapsed": false
   }
  },
  {
   "cell_type": "code",
   "execution_count": 73,
   "outputs": [
    {
     "name": "stdout",
     "output_type": "stream",
     "text": [
      "-------------------------------------------\n",
      "s: 2   n: 1000     float32          float64\n",
      "riemann_front:      1.6439348       1.6439345666815615\n",
      "riemann_back:       1.6439345       1.6439345666815597\n",
      "dirichlet_front:    0.82246685      0.8224665339241114\n",
      "dirichlet_back:     0.82246655        0.8224665339241127\n",
      "\n",
      "-------------------------------------------\n",
      "s: 3.6667   n: 1000     float32          float64\n",
      "riemann_front:      1.1094086       1.1094105108423578\n",
      "riemann_back:       1.1094105       1.1094105108423593\n",
      "dirichlet_front:    0.9346933      0.9346933439141353\n",
      "dirichlet_back:     0.93469334        0.9346933439141354\n",
      "\n",
      "-------------------------------------------\n",
      "s: 5   n: 1000     float32          float64\n",
      "riemann_front:      1.0369275       1.0369277551431222\n",
      "riemann_back:       1.0369277       1.0369277551431204\n",
      "dirichlet_front:    0.9721198      0.9721197704469091\n",
      "dirichlet_back:     0.97211975        0.9721197704469088\n",
      "\n",
      "-------------------------------------------\n",
      "s: 7.2   n: 1000     float32          float64\n",
      "riemann_front:      1.0072277       1.0072276664807145\n",
      "riemann_back:       1.0072277       1.0072276664807172\n",
      "dirichlet_front:    0.99352705      0.9935270006616201\n",
      "dirichlet_back:     0.993527        0.9935270006616198\n",
      "\n",
      "-------------------------------------------\n",
      "s: 10   n: 1000     float32          float64\n",
      "riemann_front:      1.0009946       1.0009945751278182\n",
      "riemann_back:       1.0009946       1.000994575127818\n",
      "dirichlet_front:    0.99903953      0.9990395075982718\n",
      "dirichlet_back:     0.99903953        0.9990395075982715\n",
      "\n"
     ]
    }
   ],
   "source": [
    "# Riemann\n",
    "floattype = np.float32\n",
    "tab_s = [2, 3.6667, 5, 7.2, 10]\n",
    "tab_n = [50, 100, 200, 500, 1000]\n",
    "# s = 3\n",
    "n = 1000\n",
    "for s in tab_s:\n",
    "    print(\"-------------------------------------------\")\n",
    "    print(\"s:\", s, \"  n:\", n, \"    float32          float64\")\n",
    "    print(\"riemann_front:     \", sum_riemann_front(s, n, np.float32),   \"     \",sum_riemann_front(s, n, np.float64))\n",
    "    print(\"riemann_back:      \", sum_riemann_back(s, n, np.float32),    \"     \",sum_riemann_back(s, n, np.float64))\n",
    "    print(\"dirichlet_front:   \", sum_dirichlet_front(s, n, np.float32), \"    \",sum_dirichlet_front(s, n, np.float64))\n",
    "    print(\"dirichlet_back:    \", sum_dirichlet_back(s, n, np.float32),  \"      \",sum_dirichlet_back(s, n, np.float64))\n",
    "    print()\n",
    "\n"
   ],
   "metadata": {
    "collapsed": false
   }
  }
 ],
 "metadata": {
  "kernelspec": {
   "display_name": "Python 3",
   "language": "python",
   "name": "python3"
  },
  "language_info": {
   "codemirror_mode": {
    "name": "ipython",
    "version": 2
   },
   "file_extension": ".py",
   "mimetype": "text/x-python",
   "name": "python",
   "nbconvert_exporter": "python",
   "pygments_lexer": "ipython2",
   "version": "2.7.6"
  }
 },
 "nbformat": 4,
 "nbformat_minor": 0
}

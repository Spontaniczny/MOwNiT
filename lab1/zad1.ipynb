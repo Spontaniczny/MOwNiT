{
 "cells": [
  {
   "cell_type": "markdown",
   "source": [
    "# Zad 1"
   ],
   "metadata": {
    "collapsed": false
   }
  },
  {
   "cell_type": "code",
   "execution_count": 209,
   "outputs": [],
   "source": [
    "from random import uniform\n",
    "import matplotlib.pyplot as plt\n",
    "from time import time"
   ],
   "metadata": {
    "collapsed": false
   }
  },
  {
   "cell_type": "code",
   "execution_count": 210,
   "outputs": [],
   "source": [
    "def add(tab):\n",
    "    s = 0\n",
    "    for x in tab:\n",
    "        s += x\n",
    "    return s\n",
    "\n",
    "def add_recu(tab):\n",
    "    n = len(tab)\n",
    "    if n == 0:\n",
    "        return 0\n",
    "    elif n == 1:\n",
    "        return tab[0]\n",
    "    elif n == 2:\n",
    "        return tab[0] + tab[1]\n",
    "    n //= 2\n",
    "    return add_recu(tab[:n]) + add_recu(tab[n:])\n",
    "\n",
    "def count_time(func, *args, **kwargs):\n",
    "    start_time = time()\n",
    "    func(*args, **kwargs)\n",
    "    return time() - start_time"
   ],
   "metadata": {
    "collapsed": false
   }
  },
  {
   "cell_type": "code",
   "execution_count": 211,
   "metadata": {
    "collapsed": true
   },
   "outputs": [
    {
     "name": "stdout",
     "output_type": "stream",
     "text": [
      "v = 0.111111111\n",
      "correct_sum:       1111111.1099999999\n",
      "sum_using_sum:     1111111.1100634178\n",
      "sum_left_to_right: 1111111.1100634178\n"
     ]
    }
   ],
   "source": [
    "# int in python -> 32 bits -> pojedyncza prezycja\n",
    "\n",
    "N = 10**7\n",
    "v = uniform(0.1, 0.9)\n",
    "# v = 0.111111111  # zad 1.7\n",
    "correct_sum = v*N\n",
    "tab = [v for _ in range(N)]\n",
    "sum_using_sum = sum(tab)\n",
    "sum_left_to_right = add(tab)\n",
    "print(\"v =\", v)\n",
    "print(\"correct_sum:      \", correct_sum)\n",
    "print(\"sum_using_sum:    \", sum_using_sum)\n",
    "print(\"sum_left_to_right:\", sum_left_to_right)"
   ]
  },
  {
   "cell_type": "code",
   "execution_count": 212,
   "outputs": [
    {
     "name": "stdout",
     "output_type": "stream",
     "text": [
      "error_abs: 6.34179450571537e-05\n",
      "error_rel: 5.7076150608514486e-11\n"
     ]
    }
   ],
   "source": [
    "# sum_using_sum = sum_left_to_right\n",
    "wrong_sum = sum_left_to_right\n",
    "error_abs = abs(correct_sum - wrong_sum)  # bląd bezwzględny\n",
    "error_rel = error_abs / correct_sum       # błąd względny\n",
    "print(\"error_abs:\", error_abs)\n",
    "print(\"error_rel:\", error_rel)"
   ],
   "metadata": {
    "collapsed": false
   }
  },
  {
   "cell_type": "code",
   "execution_count": 213,
   "outputs": [
    {
     "data": {
      "text/plain": "<Figure size 640x480 with 1 Axes>",
      "image/png": "[encoded data removed]"
     },
     "metadata": {},
     "output_type": "display_data"
    }
   ],
   "source": [
    "error_abs_tab = [0]\n",
    "steps = [0]\n",
    "current_val = 0\n",
    "for i in range(N):\n",
    "    current_val += tab[i]\n",
    "    if (i + 1) % 25000 == 0:\n",
    "        steps.append((i+1)//25000)\n",
    "        correct_val = (i+1) * v\n",
    "        current_abs_error = abs(correct_val - current_val)\n",
    "        # current_abs_error = correct_val - current_val\n",
    "        # print(current_abs_error)\n",
    "        error_abs_tab.append(current_abs_error / correct_val)\n",
    "\n",
    "plt.plot(steps,error_abs_tab)\n",
    "plt.show()"
   ],
   "metadata": {
    "collapsed": false
   }
  },
  {
   "cell_type": "code",
   "execution_count": 214,
   "outputs": [],
   "source": [
    "sum_recu = add_recu(tab)\n",
    "error_abs_reku = abs(correct_sum - sum_recu)\n",
    "error_rel_reku = error_abs_reku / correct_sum"
   ],
   "metadata": {
    "collapsed": false
   }
  },
  {
   "cell_type": "code",
   "execution_count": 215,
   "outputs": [
    {
     "name": "stdout",
     "output_type": "stream",
     "text": [
      "v = 0.111111111 \n",
      "\n",
      "correct_sum:   1111111.1099999999\n",
      "wrong_sum:     1111111.1100634178\n",
      "sum_recu:      1111111.1100000003\n",
      "                    absolut                   relative\n",
      "errors_normal: 6.34179450571537e-05     5.7076150608514486e-11\n",
      "errors_reku:   4.656612873077393e-10    4.1909515899606054e-16\n"
     ]
    }
   ],
   "source": [
    "print(\"v =\", v, \"\\n\")\n",
    "print(\"correct_sum:  \", correct_sum)\n",
    "print(\"wrong_sum:    \", wrong_sum)\n",
    "print(\"sum_recu:     \", sum_recu)\n",
    "print(\"                    absolut                   relative\")\n",
    "print(\"errors_normal:\", error_abs, \"   \", error_rel)\n",
    "print(\"errors_reku:  \", error_abs_reku, \"  \", error_rel_reku)"
   ],
   "metadata": {
    "collapsed": false
   }
  },
  {
   "cell_type": "code",
   "execution_count": 216,
   "outputs": [
    {
     "name": "stdout",
     "output_type": "stream",
     "text": [
      "v = 0.111111111 \n",
      "\n",
      "time of normal add func: 0.2569291591644287 s\n",
      "time of reku add func:   3.1669845581054688 s\n"
     ]
    }
   ],
   "source": [
    "t1 = count_time(add, tab)\n",
    "t2 = count_time(add_recu, tab)\n",
    "\n",
    "print(\"v =\", v, \"\\n\")\n",
    "print(\"time of normal add func:\", t1, \"s\")\n",
    "print(\"time of reku add func:  \", t2, \"s\")\n"
   ],
   "metadata": {
    "collapsed": false
   }
  },
  {
   "cell_type": "markdown",
   "source": [],
   "metadata": {
    "collapsed": false
   }
  }
 ],
 "metadata": {
  "kernelspec": {
   "display_name": "Python 3",
   "language": "python",
   "name": "python3"
  },
  "language_info": {
   "codemirror_mode": {
    "name": "ipython",
    "version": 2
   },
   "file_extension": ".py",
   "mimetype": "text/x-python",
   "name": "python",
   "nbconvert_exporter": "python",
   "pygments_lexer": "ipython2",
   "version": "2.7.6"
  }
 },
 "nbformat": 4,
 "nbformat_minor": 0
}
